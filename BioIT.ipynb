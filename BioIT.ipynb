{
 "cells": [
  {
   "cell_type": "markdown",
   "id": "binary-jersey",
   "metadata": {},
   "source": []
  },
  {
   "cell_type": "markdown",
   "id": "steady-inclusion",
   "metadata": {},
   "source": [
    "The following functions are used send queries to Translator and display the results"
   ]
  },
  {
   "cell_type": "code",
   "execution_count": null,
   "id": "neural-greece",
   "metadata": {},
   "outputs": [],
   "source": [
    "#imports\n",
    "import json\n",
    "import requests\n",
    "from collections import defaultdict\n",
    "import pandas as pd\n",
    "import copy\n",
    "from datetime import datetime as dt\n",
    "import urllib.parse\n",
    "import time"
   ]
  },
  {
   "cell_type": "code",
   "execution_count": null,
   "id": "serious-environment",
   "metadata": {},
   "outputs": [],
   "source": [
    "#ARS functions\n",
    "def submit_to_ars(m,ars_url='https://ars.transltr.io/ars/api',arax_url='https://arax.ncats.io'):\n",
    "    submit_url=f'{ars_url}/submit'\n",
    "    response = requests.post(submit_url,json=m)\n",
    "    try:\n",
    "        message_id = response.json()['pk']\n",
    "    except:\n",
    "        print('fail')\n",
    "        message_id = None\n",
    "    print(f'{arax_url}/?source=ARS&id={message_id}')\n",
    "    return message_id\n",
    "\n",
    "def retrieve_ars_results(mid,ars_url='https://ars.transltr.io/ars/api'):\n",
    "    message_url = f'{ars_url}/messages/{mid}?trace=y'\n",
    "    response = requests.get(message_url)\n",
    "    j = response.json()\n",
    "    print( j['status'] )\n",
    "    results = {}\n",
    "    for child in j['children']:\n",
    "        print(child['status'])\n",
    "        if child['status']  == 'Done':\n",
    "            childmessage_id = child['message']\n",
    "            child_url = f'{ars_url}/messages/{childmessage_id}'\n",
    "            try:\n",
    "                child_response = requests.get(child_url).json()\n",
    "                nresults = len(child_response['fields']['data']['message']['results'])\n",
    "                if nresults > 0:\n",
    "                    results[child['actor']['agent']] = {'message':child_response['fields']['data']['message']}\n",
    "            except Exception as e:\n",
    "                nresults=0\n",
    "                child['status'] = 'ARS Error'\n",
    "        elif child['status'] == 'Error':\n",
    "            nresults=0\n",
    "            childmessage_id = child['message']\n",
    "            child_url = f'{ars_url}/messages/{childmessage_id}'\n",
    "            try:\n",
    "                child_response = requests.get(child_url).json()\n",
    "                results[child['actor']['agent']] = {'message':child_response['fields']['data']['message']}\n",
    "            except Exception as e:\n",
    "                print(e)\n",
    "                child['status'] = 'ARS Error'\n",
    "        else:\n",
    "            nresults = 0\n",
    "        print( child['status'], child['actor']['agent'],nresults )\n",
    "    return results"
   ]
  },
  {
   "cell_type": "code",
   "execution_count": null,
   "id": "meaning-deviation",
   "metadata": {},
   "outputs": [],
   "source": [
    "#utils\n",
    "def printjson(j):\n",
    "    print(json.dumps(j,indent=4))\n",
    "def print_json(j):\n",
    "    printjson(j)"
   ]
  },
  {
   "cell_type": "code",
   "execution_count": null,
   "id": "609ed682",
   "metadata": {},
   "outputs": [],
   "source": [
    "#Method to construct a simple one hop query.  Default values are set to the most general form\n",
    "def construct_query(id0, type0=[\"biolink:NamedThing\"],type1=[\"biolink:NamedThing\"],\n",
    "                    predicates=[\"biolink:related_to\"]):\n",
    "    with open('template.json','r') as inf:\n",
    "        query = json.load(inf)\n",
    "        query[\"message\"][\"query_graph\"][\"edges\"][\"e01\"][\"predicates\"]=predicates\n",
    "        query[\"message\"][\"query_graph\"][\"nodes\"][\"n0\"][\"ids\"]=id0\n",
    "        #query[\"message\"][\"query_graph\"][\"nodes\"][\"n1\"][\"ids\"]=id1\n",
    "        query[\"message\"][\"query_graph\"][\"nodes\"][\"n0\"][\"categories\"]=type0\n",
    "        query[\"message\"][\"query_graph\"][\"nodes\"][\"n1\"][\"categories\"]=type1\n",
    "        return query"
   ]
  },
  {
   "cell_type": "code",
   "execution_count": null,
   "id": "4633b6f1",
   "metadata": {},
   "outputs": [],
   "source": [
    "def resolve_name(string):\n",
    "    url_string=urllib.parse.quote(string)\n",
    "    name_resolver_url=\"https://name-resolution-sri.renci.org/lookup?string=\"\n",
    "    message_url = f'{name_resolver_url}{string}&offset=0&limit=10'\n",
    "    response = requests.post(message_url)\n",
    "    return response.json()"
   ]
  },
  {
   "cell_type": "code",
   "execution_count": null,
   "id": "6265a67e",
   "metadata": {},
   "outputs": [],
   "source": [
    "def construct_batch(ids0, id1=[], type0=[\"biolink:NamedThing\"],type1=[\"biolink:NamedThing\"],\n",
    "                    predicates=[\"biolink:related_to\"]):\n",
    "    query_list=[]\n",
    "    for my_id in ids0:\n",
    "        query_list.append(construct_query(my_id,id1,type0,type1,predicates))\n",
    "    return query_list"
   ]
  },
  {
   "cell_type": "code",
   "execution_count": null,
   "id": "265398fc",
   "metadata": {},
   "outputs": [],
   "source": [
    "def run_batch(query_list,delay=0)\n",
    "    id_list=[]\n",
    "    for query in query_list:\n",
    "        id_list.append(submit_to_ars(query))\n",
    "        time.sleep(delay)\n",
    "    return id_list"
   ]
  },
  {
   "cell_type": "code",
   "execution_count": null,
   "id": "61aaa7c0",
   "metadata": {},
   "outputs": [],
   "source": [
    "def return_batch(id_list):\n",
    "    result_list=[]\n",
    "    for my_id in id_list:\n",
    "        result=retrieve_ars_results(my_id)\n",
    "        result_list.append(result)\n",
    "        time.sleep(delay)\n",
    "    return result_list\n",
    "        "
   ]
  },
  {
   "cell_type": "code",
   "execution_count": null,
   "id": "297f8cc5",
   "metadata": {},
   "outputs": [],
   "source": [
    "def getpath_impl(j, fields, i):\n",
    "    if(j is None or i>=len(fields)):\n",
    "        return j\n",
    "    field = fields[i]\n",
    "    jNext = j[field] if field in j else None\n",
    "    return getpath_impl(jNext, fields, i+1)\n",
    "\n",
    "def getpath(j, fields):\n",
    "    return getpath_impl(j, fields, 0)"
   ]
  },
  {
   "cell_type": "code",
   "execution_count": null,
   "id": "3c3cfd58",
   "metadata": {},
   "outputs": [],
   "source": [
    "def fetch_triple_from_kg(message,triple):\n",
    "    kg = getpath(message,[\"message\",\"knowledge_graph\"])\n",
    "    nodes = getpath(kg,[\"nodes\"])\n",
    "    edges = getpath(kg,[\"edges\"])\n",
    "    #print(\"Nodes \"+str(nodes))\n",
    "    node1=(getpath(nodes,[triple[0],\"name\"]))\n",
    "    edge=(getpath(edges,[triple[1],\"predicate\"]))\n",
    "    node2=(getpath(nodes,[triple[2],\"name\"]))\n",
    "    if node1 is None:\n",
    "        node1=\"Not Found\"\n",
    "    if edge is None:\n",
    "        edge=\"Not Found\"\n",
    "    if node2 is None:\n",
    "        node2=\"Not Found\"\n",
    "    fetched_triple=(node1,edge,node2)\n",
    "\n",
    "    #print(\"Fetched \"+str(fetched_triple))\n",
    "    return fetched_triple\n",
    "    #csv=getpath(nodes,[triple[0],\"name\"])+\",\"+getpath(edges,[triple[1],\"name\"])+\",\"+getpath(nodes,[triple[2],\"name\"])\n",
    "    #print(csv)\n",
    "        \n",
    "\n",
    "def trapi_to_csv(message):\n",
    "    results = getpath(message,[\"message\",\"results\"])\n",
    "    #printjson(results)\n",
    "    kg = getpath(message,[\"fields\",\"data\",\"message\",\"knowledge_graph\"])\n",
    "    triples=[]\n",
    "    csv_list=[]\n",
    "    if results is None:\n",
    "        #print(\"No results?\")\n",
    "        return None\n",
    "    for result in results:\n",
    "        #print(\"Result\"+ str(result))\n",
    "        node_bindings=getpath(result,[\"node_bindings\"])\n",
    "        edge_bindings=getpath(result,[\"edge_bindings\"])\n",
    "        node_ids=[]\n",
    "        edge_ids=[]\n",
    "        for binding in node_bindings:\n",
    "            \n",
    "            node_id=node_bindings[binding][0][\"id\"]\n",
    "            node_ids.append(node_id)\n",
    "        for binding in edge_bindings:\n",
    "            edge_id=edge_bindings[binding][0][\"id\"]\n",
    "            edge_ids.append(edge_id)\n",
    "        #here we enter the realm of assumptions, namely that we are only working with one-hop queries\n",
    "        my_tuple=(node_ids[0],edge_ids[0],node_ids[1])\n",
    "        #print(\"TUPLE \"+str(my_tuple))\n",
    "        f_t=fetch_triple_from_kg(message,my_tuple)\n",
    "        csv=f_t[0]+\",\"+f_t[1]+\",\"+f_t[2]\n",
    "        csv_list.append(csv)\n",
    "    return csv_list\n",
    "\n",
    "        "
   ]
  },
  {
   "cell_type": "code",
   "execution_count": null,
   "id": "53894cb4",
   "metadata": {},
   "outputs": [],
   "source": [
    " with open('exampleAnswer.json','r') as inf:\n",
    "        trapi_to_csv(json.load(inf))"
   ]
  },
  {
   "cell_type": "code",
   "execution_count": null,
   "id": "3fc3da0e",
   "metadata": {},
   "outputs": [],
   "source": [
    "#my_s = \"pancreatic cancer\"\n",
    "#resolved=resolve_name(my_s)\n",
    "#printjson(resolved)"
   ]
  },
  {
   "cell_type": "code",
   "execution_count": null,
   "id": "072e5c8c",
   "metadata": {},
   "outputs": [],
   "source": [
    "my_input =\"NCBIGene:1956\"\n",
    "my_query = construct_query([my_input],[],[\"biolink:Gene\"],[\"biolink:ChemicalEntity\"])\n",
    "print(my_query)"
   ]
  },
  {
   "cell_type": "code",
   "execution_count": null,
   "id": "6b50dfb6",
   "metadata": {},
   "outputs": [],
   "source": [
    "my_query = construct_query([\"NCBIGene:23221\"],[\"biolink:Gene\"],[\"biolink:ChemicalEntity\"])\n",
    "printjson(my_query)\n",
    "#my_id=submit_to_ars(my_query)\n",
    "#time.sleep(300)\n",
    "my_id=\"1a1aa294-a854-4857-a58c-ef5dfb273fa9\"\n",
    "my_json=retrieve_ars_results(my_id)"
   ]
  },
  {
   "cell_type": "code",
   "execution_count": null,
   "id": "c254fe3d",
   "metadata": {},
   "outputs": [],
   "source": [
    "LIMIT =5000\n",
    "#print(type(my_json))\n",
    "#print(my_json.keys())\n",
    "#printjson(my_json[\"kp-genetics\"])\n",
    "#csvs=trapi_to_csv(my_json[\"kp-genetics\"])\n",
    "#for csv in csvs:\n",
    "#    print(str(csv))\n",
    "\n",
    "for key in my_json.keys():\n",
    "    print(\"Currently viewing results from \"+key+\"\\n\")\n",
    "    #print(my_json[result])\n",
    "    csvs=trapi_to_csv(my_json[key])\n",
    "    if csvs is None:\n",
    "        print(\"None CSVs\")\n",
    "        continue\n",
    "    counter=0\n",
    "    for csv in csvs:\n",
    "        counter+=1\n",
    "        print(csv)\n",
    "        if(counter>LIMIT):\n",
    "            break"
   ]
  },
  {
   "cell_type": "code",
   "execution_count": null,
   "id": "homeless-blackjack",
   "metadata": {},
   "outputs": [],
   "source": [
    "with open('A.0_RHOBTB2_direct.json','r') as inf:\n",
    "    query_0 = json.load(inf)\n",
    "printjson(query_0)"
   ]
  },
  {
   "cell_type": "code",
   "execution_count": null,
   "id": "vital-south",
   "metadata": {},
   "outputs": [],
   "source": [
    "pk_0 = submit_to_ars(query_0)"
   ]
  },
  {
   "cell_type": "code",
   "execution_count": null,
   "id": "69051cc5",
   "metadata": {},
   "outputs": [],
   "source": []
  },
  {
   "cell_type": "code",
   "execution_count": null,
   "id": "7ccf7775",
   "metadata": {},
   "outputs": [],
   "source": []
  }
 ],
 "metadata": {
  "kernelspec": {
   "display_name": "Python 3 (ipykernel)",
   "language": "python",
   "name": "python3"
  },
  "language_info": {
   "codemirror_mode": {
    "name": "ipython",
    "version": 3
   },
   "file_extension": ".py",
   "mimetype": "text/x-python",
   "name": "python",
   "nbconvert_exporter": "python",
   "pygments_lexer": "ipython3",
   "version": "3.9.12"
  }
 },
 "nbformat": 4,
 "nbformat_minor": 5
}
